{
  "cells": [
    {
      "cell_type": "code",
      "execution_count": null,
      "metadata": {
        "collapsed": false
      },
      "outputs": [],
      "source": [
        "%matplotlib inline"
      ]
    },
    {
      "cell_type": "markdown",
      "metadata": {},
      "source": [
        "\n# Reproject grid using UTM zone information and visualize\n\nThis example demonstrates how to use the UTM zone information provided\nby the grid systems to reproject the results and visualize area differences.\n"
      ]
    },
    {
      "cell_type": "code",
      "execution_count": null,
      "metadata": {
        "collapsed": false
      },
      "outputs": [],
      "source": [
        "import geopandas as gpd\nimport matplotlib.pyplot as plt\nfrom shapely.geometry import Point\n\nfrom m3s import H3Grid\n\n# Create a GeoDataFrame with points across different UTM zones\ngdf = gpd.GeoDataFrame(\n    {\"city\": [\"New York\", \"London\", \"Tokyo\"], \"country\": [\"USA\", \"UK\", \"Japan\"]},\n    geometry=[\n        Point(-74.0060, 40.7128),  # NYC (UTM 18N)\n        Point(-0.1278, 51.5074),  # London (UTM 30N)\n        Point(139.6917, 35.6895),  # Tokyo (UTM 54N)\n    ],\n    crs=\"EPSG:4326\",\n)\n\nprint(\"Original GeoDataFrame (WGS84):\")\nprint(gdf[[\"city\", \"country\"]])\nprint(f\"CRS: {gdf.crs}\")\n\n# Generate H3 grid cells\nprint(\"\\nGenerating H3 grid (resolution 8)...\")\nh3_grid = H3Grid(resolution=8)\nh3_result = h3_grid.intersects(gdf)\n\nprint(f\"Generated {len(h3_result)} H3 cells\")\nprint(\"UTM zones found:\", sorted(h3_result[\"utm\"].unique()))\n\n# Reproject each group to its UTM zone and calculate areas\nprint(\"\\nReprojecting to UTM zones for accurate area calculation...\")\nreprojected_results = []\n\nfor utm_zone in h3_result[\"utm\"].unique():\n    zone_cells = h3_result[h3_result[\"utm\"] == utm_zone].copy()\n    utm_crs = f\"EPSG:{utm_zone}\"\n    zone_cells_utm = zone_cells.to_crs(utm_crs)\n    zone_cells_utm[\"area_m2\"] = zone_cells_utm.geometry.area\n    zone_cells_utm[\"area_km2\"] = zone_cells_utm[\"area_m2\"] / 1_000_000\n\n    cities_in_zone = zone_cells_utm[\"city\"].unique()\n    print(f\"UTM Zone {utm_zone}: {', '.join(cities_in_zone)}\")\n    print(f\"  Total area: {zone_cells_utm['area_km2'].sum():.2f} km\u00b2\")\n\n    reprojected_results.append(zone_cells_utm)\n\n# Convert each UTM result back to WGS84 first, then combine\nimport pandas as pd\n\nreprojected_wgs84 = []\nfor utm_result in reprojected_results:\n    utm_result_wgs84 = utm_result.to_crs(\"EPSG:4326\")\n    reprojected_wgs84.append(utm_result_wgs84)\n\n# Now combine all results (all in WGS84)\nall_utm_cells_wgs84 = gpd.GeoDataFrame(pd.concat(reprojected_wgs84, ignore_index=True))\n\n# Create visualization\nfig, axes = plt.subplots(1, 3, figsize=(18, 6))\nfig.suptitle(\"H3 Grid with UTM Zone Information\", fontsize=16)\n\n# Plot by city\ncities = gdf[\"city\"].unique()\ncolors = [\"red\", \"blue\", \"green\"]\n\nfor i, city in enumerate(cities):\n    # Filter data for this city\n    city_original = gdf[gdf[\"city\"] == city]\n    city_grid = all_utm_cells_wgs84[all_utm_cells_wgs84[\"city\"] == city]\n    utm_zone = city_grid[\"utm\"].iloc[0]\n\n    # Plot\n    axes[i].set_title(f\"{city}\\nUTM Zone {utm_zone}\")\n\n    # Plot grid cells\n    city_grid.plot(\n        ax=axes[i], alpha=0.6, edgecolor=\"black\", linewidth=0.5, color=colors[i]\n    )\n\n    # Plot original point\n    city_original.plot(ax=axes[i], color=\"black\", markersize=100, marker=\"*\")\n\n    axes[i].set_xlabel(\"Longitude\")\n    axes[i].set_ylabel(\"Latitude\")\n\n    # Add area info as text\n    total_area = city_grid[\"area_km2\"].sum()\n    avg_area = city_grid[\"area_km2\"].mean()\n    cell_count = len(city_grid)\n\n    info_text = (\n        f\"Cells: {cell_count}\\nTotal: {total_area:.2f} km\u00b2\\nAvg: {avg_area:.3f} km\u00b2\"\n    )\n    axes[i].text(\n        0.02,\n        0.98,\n        info_text,\n        transform=axes[i].transAxes,\n        verticalalignment=\"top\",\n        bbox={\"boxstyle\": \"round\", \"facecolor\": \"white\", \"alpha\": 0.8},\n    )\n\nplt.tight_layout()\nplt.show()\n\n# Print area comparison\nprint(\"\\nArea Analysis:\")\nfor city in cities:\n    # Find the city data in the original UTM results\n    city_data = None\n    for utm_result in reprojected_results:\n        if city in utm_result[\"city\"].values:\n            city_data = utm_result[utm_result[\"city\"] == city]\n            break\n    utm_zone = city_data[\"utm\"].iloc[0]\n    total_area = city_data[\"area_km2\"].sum()\n    avg_area = city_data[\"area_km2\"].mean()\n    cell_count = len(city_data)\n\n    print(f\"{city} (UTM {utm_zone}):\")\n    print(f\"  Cells: {cell_count}\")\n    print(f\"  Total area: {total_area:.3f} km\u00b2\")\n    print(f\"  Average cell area: {avg_area:.3f} km\u00b2\")\n    print()\n\nprint(\"Key insight: Each city uses its optimal UTM zone for accurate area calculations\")"
      ]
    }
  ],
  "metadata": {
    "kernelspec": {
      "display_name": "Python 3",
      "language": "python",
      "name": "python3"
    },
    "language_info": {
      "codemirror_mode": {
        "name": "ipython",
        "version": 3
      },
      "file_extension": ".py",
      "mimetype": "text/x-python",
      "name": "python",
      "nbconvert_exporter": "python",
      "pygments_lexer": "ipython3",
      "version": "3.12.8"
    }
  },
  "nbformat": 4,
  "nbformat_minor": 0
}