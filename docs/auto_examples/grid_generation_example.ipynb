{
  "cells": [
    {
      "cell_type": "code",
      "execution_count": null,
      "metadata": {
        "collapsed": false
      },
      "outputs": [],
      "source": [
        "%matplotlib inline"
      ]
    },
    {
      "cell_type": "markdown",
      "metadata": {},
      "source": [
        "\nExample 1: Generate and visualize grids from GeoDataFrame geometry.\n\nThis example shows how to generate different grid types (MGRS, H3, Geohash,\nQuadkey, S2, Slippy, Plus codes, Maidenhead, GARS) from a GeoDataFrame and visualize them clearly.\n"
      ]
    },
    {
      "cell_type": "code",
      "execution_count": null,
      "metadata": {
        "collapsed": false
      },
      "outputs": [],
      "source": [
        "import warnings\n\nimport geopandas as gpd\nimport matplotlib.pyplot as plt\nfrom shapely.geometry import box\n\nfrom m3s import (\n    GARSGrid,\n    GeohashGrid,\n    H3Grid,\n    MaidenheadGrid,\n    MGRSGrid,\n    PlusCodeGrid,\n    QuadkeyGrid,\n    S2Grid,\n    SlippyGrid,\n)\n\n# Create a simple test area around Paris\nbbox = box(2.25, 48.82, 2.42, 48.90)  # Small area around Paris\ntest_gdf = gpd.GeoDataFrame({\"name\": [\"Paris Area\"]}, geometry=[bbox], crs=\"EPSG:4326\")\n\nprint(\"Test area: Small box around Paris\")\nprint(f\"Bounds: {bbox.bounds}\")\n\n# Generate grids with appropriate resolutions for visualization\nprint(\"\\nGenerating grids...\")\n\n# Use coarser resolutions so we can actually see the grid structure\nmgrs_grid = MGRSGrid(precision=1)  # 10km cells - very coarse\nh3_grid = H3Grid(resolution=6)  # ~3.2km edge length\ngeohash_grid = GeohashGrid(precision=5)  # ~4.9km x 4.9km\nquadkey_grid = QuadkeyGrid(level=12)  # ~4.9km x 4.9km (similar to geohash p5)\ns2_grid = S2Grid(level=9)  # ~18km edge length\nslippy_grid = SlippyGrid(zoom=12)  # ~4.9km x 4.9km (similar to quadkey)\npluscode_grid = PlusCodeGrid(precision=3)  # ~250m x 250m cells\nmaidenhead_grid = MaidenheadGrid(precision=3)  # ~2\u00b0 x 1\u00b0 cells\ngars_grid = GARSGrid(precision=3)  # 15' \u00d7 15' cells\n\n# Generate grid cells that intersect our test area\nprint(\"  Processing MGRS...\")\nmgrs_result = mgrs_grid.intersects(test_gdf)\n\nprint(\"  Processing H3...\")\nh3_result = h3_grid.intersects(test_gdf)\n\nprint(\"  Processing Geohash...\")\ngeohash_result = geohash_grid.intersects(test_gdf)\n\nprint(\"  Processing Quadkey...\")\nquadkey_result = quadkey_grid.intersects(test_gdf)\n\nprint(\"  Processing S2...\")\nwith warnings.catch_warnings():\n    warnings.simplefilter(\"ignore\")  # Suppress S2 warnings for cleaner output\n    s2_result = s2_grid.intersects(test_gdf)\n\nprint(\"  Processing Slippy...\")\nslippy_result = slippy_grid.intersects(test_gdf)\n\nprint(\"  Processing Plus codes...\")\npluscode_result = pluscode_grid.intersects(test_gdf)\n\nprint(\"  Processing Maidenhead...\")\nmaidenhead_result = maidenhead_grid.intersects(test_gdf)\n\nprint(\"  Processing GARS...\")\ngars_result = gars_grid.intersects(test_gdf)\n\nprint(\"Generated:\")\nprint(f\"  MGRS (10km):        {len(mgrs_result)} cells\")\nprint(f\"  H3 (res 6):         {len(h3_result)} cells\")\nprint(f\"  Geohash (p5):       {len(geohash_result)} cells\")\nprint(f\"  Quadkey (l12):      {len(quadkey_result)} cells\")\nprint(f\"  S2 (l9):            {len(s2_result)} cells\")\nprint(f\"  Slippy (z12):       {len(slippy_result)} cells\")\nprint(f\"  Plus codes (p3):    {len(pluscode_result)} cells\")\nprint(f\"  Maidenhead (p3):    {len(maidenhead_result)} cells\")\nprint(f\"  GARS (p3):          {len(gars_result)} cells\")\n\n# Create comprehensive visualization with all grid systems\nfig, axes = plt.subplots(3, 3, figsize=(20, 18))\nfig.suptitle(\"Grid Systems Comparison - Paris Area\", fontsize=20)\n\n# Define grid results and properties\ngrid_configs = [\n    (mgrs_result, \"MGRS Grid\\n10km precision\", \"lightblue\", \"blue\", axes[0, 0]),\n    (h3_result, \"H3 Hexagonal Grid\\nResolution 6\", \"lightgreen\", \"green\", axes[0, 1]),\n    (geohash_result, \"Geohash Grid\\nPrecision 5\", \"lightcoral\", \"darkred\", axes[0, 2]),\n    (quadkey_result, \"Quadkey Grid\\nLevel 12\", \"lightyellow\", \"orange\", axes[1, 0]),\n    (s2_result, \"S2 Grid\\nLevel 9\", \"lightpink\", \"purple\", axes[1, 1]),\n    (slippy_result, \"Slippy Map Tiles\\nZoom 12\", \"lightcyan\", \"teal\", axes[1, 2]),\n    (pluscode_result, \"Plus Codes\\nPrecision 3\", \"lightsteelblue\", \"navy\", axes[2, 0]),\n    (\n        maidenhead_result,\n        \"Maidenhead Locator\\nPrecision 3\",\n        \"lightgoldenrodyellow\",\n        \"goldenrod\",\n        axes[2, 1],\n    ),\n    (gars_result, \"GARS Grid\\nPrecision 3\", \"lavender\", \"mediumorchid\", axes[2, 2]),\n]\n\n# Plot each grid system\nfor result, title, facecolor, edgecolor, ax in grid_configs:\n    ax.set_title(f\"{title}\\n({len(result)} cells)\")\n    if len(result) > 0:\n        result.plot(\n            ax=ax, facecolor=facecolor, edgecolor=edgecolor, linewidth=1.5, alpha=0.7\n        )\n    test_gdf.plot(ax=ax, facecolor=\"none\", edgecolor=\"red\", linewidth=3)\n    ax.set_xlabel(\"Longitude\")\n    ax.set_ylabel(\"Latitude\")\n    ax.grid(True, alpha=0.3)\n\n\nplt.tight_layout()\nplt.show()\n\n# Print detailed information about each grid\nprint(\"\\nDetailed Grid Information:\")\nprint(\"=\" * 70)\n\ngrid_info = [\n    (\"MGRS Grid (10km precision)\", mgrs_result),\n    (\"H3 Grid (resolution 6)\", h3_result),\n    (\"Geohash Grid (precision 5)\", geohash_result),\n    (\"Quadkey Grid (level 12)\", quadkey_result),\n    (\"S2 Grid (level 9)\", s2_result),\n    (\"Slippy Map Tiles (zoom 12)\", slippy_result),\n    (\"Plus Codes (precision 3)\", pluscode_result),\n    (\"Maidenhead Locator (precision 2)\", maidenhead_result),\n    (\"GARS Grid (precision 2)\", gars_result),\n]\n\nfor i, (name, result) in enumerate(grid_info, 1):\n    print(f\"\\n{i}. {name}:\")\n    if len(result) > 0:\n        print(f\"   Cells generated: {len(result)}\")\n        print(f\"   Sample cell IDs: {result['cell_id'].head(3).tolist()}\")\n\n        # Check if UTM column exists (not all grids may have it)\n        if \"utm\" in result.columns:\n            unique_utms = sorted(result[\"utm\"].unique())\n            print(f\"   UTM zones: {unique_utms}\")\n        else:\n            print(\"   UTM zones: Not available for this grid system\")\n    else:\n        print(\"   No cells generated\")\n\nprint(\"\\nNote: The red outline shows our test area (Paris bounding box)\")\nprint(\"Each grid system tessellates the space differently:\")\nprint(\"- MGRS: Square UTM-based military grid reference system\")\nprint(\"- H3: Hexagonal hierarchical grid (Uber's system)\")\nprint(\"- Geohash: Base32-encoded rectangular grid\")\nprint(\"- Quadkey: Microsoft Bing Maps quadtree-based square tiles\")\nprint(\"- S2: Google's spherical geometry cells using Hilbert curve\")\nprint(\"- Slippy: Standard web map tiles used by OpenStreetMap and others\")\nprint(\"- Plus Codes: Google's open-source alternative to addresses\")\nprint(\"- Maidenhead: Ham radio grid system with alternating letter/number pairs\")\nprint(\"- GARS: Military/aviation Global Area Reference System\")\n\nprint(\"\\nGrid System Characteristics:\")\nprint(\"- MGRS:       Military standard, UTM-based, square cells\")\nprint(\"- H3:         Uniform hexagons, good for analysis, minimal distortion\")\nprint(\"- Geohash:    Simple encoding, rectangular, good for databases\")\nprint(\"- Quadkey:    Web mapping standard, hierarchical, efficient for tiles\")\nprint(\"- S2:         Spherical geometry, curved cells, excellent spatial locality\")\nprint(\"- Slippy:     Web standard, z/x/y tiles, excellent for web mapping\")\nprint(\"- Plus Codes: Google's address alternative, base-20 encoding\")\nprint(\"- Maidenhead: Ham radio standard, hierarchical letter/number system\")\nprint(\"- GARS:       Aviation/military standard, longitude bands + latitude zones\")\n\nprint(\"\\nPerformance Notes:\")\nprint(\"- MGRS and Geohash: Fast, simple algorithms\")\nprint(\"- H3: Fast with good spatial properties\")\nprint(\"- Quadkey and Slippy: Fast, optimized for web mapping\")\nprint(\"- S2: More complex but excellent for large-scale applications\")\nprint(\"- Plus Codes, Maidenhead, GARS: Fast encoding/decoding, specialized use cases\")"
      ]
    }
  ],
  "metadata": {
    "kernelspec": {
      "display_name": "Python 3",
      "language": "python",
      "name": "python3"
    },
    "language_info": {
      "codemirror_mode": {
        "name": "ipython",
        "version": 3
      },
      "file_extension": ".py",
      "mimetype": "text/x-python",
      "name": "python",
      "nbconvert_exporter": "python",
      "pygments_lexer": "ipython3",
      "version": "3.12.8"
    }
  },
  "nbformat": 4,
  "nbformat_minor": 0
}