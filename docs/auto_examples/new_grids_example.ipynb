{
  "cells": [
    {
      "cell_type": "code",
      "execution_count": null,
      "metadata": {
        "collapsed": false
      },
      "outputs": [],
      "source": [
        "%matplotlib inline"
      ]
    },
    {
      "cell_type": "markdown",
      "metadata": {},
      "source": [
        "\n# New grid systems: Plus codes, Maidenhead, and GARS\n\nThis example demonstrates the new grid systems added to M3S: Plus codes (Open Location Code),\nMaidenhead locator system, and GARS (Global Area Reference System).\n"
      ]
    },
    {
      "cell_type": "code",
      "execution_count": null,
      "metadata": {
        "collapsed": false
      },
      "outputs": [],
      "source": [
        "import geopandas as gpd\nfrom shapely.geometry import Point\n\nfrom m3s import GARSGrid, MaidenheadGrid, PlusCodeGrid\n\n\ndef main():\n    \"\"\"Demonstrate the new grid systems.\"\"\"\n    # Test coordinates (San Francisco)\n    lat, lon = 37.7749, -122.4194\n    print(f\"Testing coordinates: {lat}, {lon} (San Francisco)\")\n    print(\"=\" * 60)\n\n    # Plus codes (Open Location Code)\n    print(\"\\n1. Plus codes (Open Location Code)\")\n    print(\"-\" * 40)\n\n    pluscode_grid = PlusCodeGrid(precision=4)\n    pluscode_cell = pluscode_grid.get_cell_from_point(lat, lon)\n\n    print(f\"Plus code: {pluscode_cell.identifier}\")\n    print(f\"Cell area: {pluscode_cell.area_km2:.4f} km\u00b2\")\n    print(f\"Precision: {pluscode_cell.precision}\")\n\n    # Get neighbors\n    neighbors = pluscode_grid.get_neighbors(pluscode_cell)\n    print(f\"Number of neighbors: {len(neighbors)}\")\n\n    # Maidenhead locator system\n    print(\"\\n2. Maidenhead Locator System\")\n    print(\"-\" * 40)\n\n    maidenhead_grid = MaidenheadGrid(precision=3)\n    maidenhead_cell = maidenhead_grid.get_cell_from_point(lat, lon)\n\n    print(f\"Maidenhead locator: {maidenhead_cell.identifier}\")\n    print(f\"Cell area: {maidenhead_cell.area_km2:.4f} km\u00b2\")\n    print(f\"Precision: {maidenhead_cell.precision}\")\n\n    # Get neighbors\n    neighbors = maidenhead_grid.get_neighbors(maidenhead_cell)\n    print(f\"Number of neighbors: {len(neighbors)}\")\n\n    # GARS (Global Area Reference System)\n    print(\"\\n3. GARS (Global Area Reference System)\")\n    print(\"-\" * 40)\n\n    gars_grid = GARSGrid(precision=2)\n    gars_cell = gars_grid.get_cell_from_point(lat, lon)\n\n    print(f\"GARS identifier: {gars_cell.identifier}\")\n    print(f\"Cell area: {gars_cell.area_km2:.4f} km\u00b2\")\n    print(f\"Precision: {gars_cell.precision}\")\n\n    # Get neighbors\n    neighbors = gars_grid.get_neighbors(gars_cell)\n    print(f\"Number of neighbors: {len(neighbors)}\")\n\n    # Demonstrate bbox functionality\n    print(\"\\n4. Bounding Box Queries\")\n    print(\"-\" * 40)\n\n    # Small bounding box around the test point\n    min_lat, min_lon = lat - 0.1, lon - 0.1\n    max_lat, max_lon = lat + 0.1, lon + 0.1\n\n    print(\n        f\"Bounding box: ({min_lat:.2f}, {min_lon:.2f}) to ({max_lat:.2f}, {max_lon:.2f})\"\n    )\n\n    # Get cells in bbox for each grid system\n    pluscode_cells = pluscode_grid.get_cells_in_bbox(min_lat, min_lon, max_lat, max_lon)\n    maidenhead_cells = maidenhead_grid.get_cells_in_bbox(\n        min_lat, min_lon, max_lat, max_lon\n    )\n    gars_cells = gars_grid.get_cells_in_bbox(min_lat, min_lon, max_lat, max_lon)\n\n    print(f\"Plus codes cells in bbox: {len(pluscode_cells)}\")\n    print(f\"Maidenhead cells in bbox: {len(maidenhead_cells)}\")\n    print(f\"GARS cells in bbox: {len(gars_cells)}\")\n\n    # Demonstrate different precisions\n    print(\"\\n5. Precision Comparison\")\n    print(\"-\" * 40)\n\n    print(\"Plus codes:\")\n    for precision in range(1, 5):\n        grid = PlusCodeGrid(precision=precision)\n        cell = grid.get_cell_from_point(lat, lon)\n        print(\n            f\"  Precision {precision}: {cell.identifier} (area: {cell.area_km2:.4f} km\u00b2)\"\n        )\n\n    print(\"\\nMaidenhead:\")\n    for precision in range(1, 5):\n        grid = MaidenheadGrid(precision=precision)\n        cell = grid.get_cell_from_point(lat, lon)\n        print(\n            f\"  Precision {precision}: {cell.identifier} (area: {cell.area_km2:.4f} km\u00b2)\"\n        )\n\n    print(\"\\nGARS:\")\n    for precision in range(1, 4):\n        grid = GARSGrid(precision=precision)\n        cell = grid.get_cell_from_point(lat, lon)\n        print(\n            f\"  Precision {precision}: {cell.identifier} (area: {cell.area_km2:.4f} km\u00b2)\"\n        )\n\n    # GeoDataFrame integration example\n    print(\"\\n6. GeoDataFrame Integration\")\n    print(\"-\" * 40)\n\n    # Create a simple GeoDataFrame with a point\n    gdf = gpd.GeoDataFrame(\n        {\"name\": [\"San Francisco\"], \"geometry\": [Point(lon, lat)]}, crs=\"EPSG:4326\"\n    )\n\n    # Intersect with different grid systems\n    pluscode_result = pluscode_grid.intersects(gdf)\n    maidenhead_result = maidenhead_grid.intersects(gdf)\n    gars_result = gars_grid.intersects(gdf)\n\n    print(f\"Plus codes intersect result: {len(pluscode_result)} cells\")\n    if len(pluscode_result) > 0:\n        print(f\"  Cell ID: {pluscode_result.iloc[0]['cell_id']}\")\n\n    print(f\"Maidenhead intersect result: {len(maidenhead_result)} cells\")\n    if len(maidenhead_result) > 0:\n        print(f\"  Cell ID: {maidenhead_result.iloc[0]['cell_id']}\")\n\n    print(f\"GARS intersect result: {len(gars_result)} cells\")\n    if len(gars_result) > 0:\n        print(f\"  Cell ID: {gars_result.iloc[0]['cell_id']}\")\n\n\nif __name__ == \"__main__\":\n    main()"
      ]
    }
  ],
  "metadata": {
    "kernelspec": {
      "display_name": "Python 3",
      "language": "python",
      "name": "python3"
    },
    "language_info": {
      "codemirror_mode": {
        "name": "ipython",
        "version": 3
      },
      "file_extension": ".py",
      "mimetype": "text/x-python",
      "name": "python",
      "nbconvert_exporter": "python",
      "pygments_lexer": "ipython3",
      "version": "3.12.8"
    }
  },
  "nbformat": 4,
  "nbformat_minor": 0
}