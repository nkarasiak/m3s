{
  "cells": [
    {
      "cell_type": "code",
      "execution_count": null,
      "metadata": {
        "collapsed": false
      },
      "outputs": [],
      "source": [
        "%matplotlib inline"
      ]
    },
    {
      "cell_type": "markdown",
      "metadata": {},
      "source": [
        "\nSimple test for S2 grid functionality.\n"
      ]
    },
    {
      "cell_type": "code",
      "execution_count": null,
      "metadata": {
        "collapsed": false
      },
      "outputs": [],
      "source": [
        "import warnings\n\nwarnings.simplefilter(\"ignore\")\n\nimport geopandas as gpd\nfrom shapely.geometry import box\n\nfrom m3s import S2Grid\n\n# Create a simple test\nbbox = box(2.25, 48.82, 2.42, 48.90)\ntest_gdf = gpd.GeoDataFrame({\"name\": [\"Paris Area\"]}, geometry=[bbox], crs=\"EPSG:4326\")\n\nprint(\"Testing S2 at different levels...\")\n\nfor level in [4, 5, 6]:\n    grid = S2Grid(level=level)\n\n    # Test with a point in the center\n    center_lat, center_lon = 48.85, 2.35\n    cell = grid.get_cell_from_point(center_lat, center_lon)\n    intersects_bbox = cell.polygon.intersects(bbox)\n\n    print(f\"\\nLevel {level}:\")\n    print(f\"  Center cell: {cell.identifier}\")\n    print(f\"  Cell bounds: {cell.polygon.bounds}\")\n    print(f\"  Intersects bbox: {intersects_bbox}\")\n\n    # Test the intersects method\n    result = grid.intersects(test_gdf)\n    print(f\"  Intersects method result: {len(result)} cells\")\n\n    if len(result) > 0:\n        print(f\"  SUCCESS at level {level}!\")\n        break\nelse:\n    print(\"\\nNo level worked with the intersects method.\")\n    print(\"This indicates an issue with the get_cells_in_bbox implementation.\")"
      ]
    }
  ],
  "metadata": {
    "kernelspec": {
      "display_name": "Python 3",
      "language": "python",
      "name": "python3"
    },
    "language_info": {
      "codemirror_mode": {
        "name": "ipython",
        "version": 3
      },
      "file_extension": ".py",
      "mimetype": "text/x-python",
      "name": "python",
      "nbconvert_exporter": "python",
      "pygments_lexer": "ipython3",
      "version": "3.12.8"
    }
  },
  "nbformat": 4,
  "nbformat_minor": 0
}